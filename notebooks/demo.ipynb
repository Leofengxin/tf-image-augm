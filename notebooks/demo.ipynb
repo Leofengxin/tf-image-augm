{
 "cells": [
  {
   "cell_type": "code",
   "execution_count": 1,
   "metadata": {},
   "outputs": [
    {
     "name": "stdout",
     "output_type": "stream",
     "text": [
      "env: OMP_NUM_THREADS=10\n",
      "Populating the interactive namespace from numpy and matplotlib\n"
     ]
    }
   ],
   "source": [
    "%env OMP_NUM_THREADS=10\n",
    "%pylab inline\n",
    "%load_ext autoreload\n",
    "%autoreload 2"
   ]
  },
  {
   "cell_type": "code",
   "execution_count": 2,
   "metadata": {},
   "outputs": [
    {
     "name": "stderr",
     "output_type": "stream",
     "text": [
      "/home/ono/anaconda3/lib/python3.6/site-packages/h5py/__init__.py:36: FutureWarning: Conversion of the second argument of issubdtype from `float` to `np.floating` is deprecated. In future, it will be treated as `np.float64 == np.dtype(float).type`.\n",
      "  from ._conv import register_converters as _register_converters\n"
     ]
    }
   ],
   "source": [
    "import os\n",
    "import sys\n",
    "from imageio import imread\n",
    "import cv2\n",
    "import tensorflow as tf\n",
    "\n",
    "LOCAL_DIR = '../'\n",
    "if LOCAL_DIR not in sys.path:\n",
    "    sys.path.append(LOCAL_DIR)\n",
    "\n",
    "import photometric_augmentation as photoaug\n",
    "import deform_augmentation as defaug\n",
    "import improcess as imp\n",
    "from jupyter_utils import display_image_batch"
   ]
  },
  {
   "cell_type": "markdown",
   "metadata": {},
   "source": [
    "## Photometric Augmentations"
   ]
  },
  {
   "cell_type": "code",
   "execution_count": 3,
   "metadata": {},
   "outputs": [],
   "source": [
    "sample_path = '../samples/happy_animal.jpg'\n",
    "sample_image = imread(sample_path)"
   ]
  },
  {
   "cell_type": "code",
   "execution_count": 4,
   "metadata": {},
   "outputs": [],
   "source": [
    "# tensorflow implementations\n",
    "tf.reset_default_graph()\n",
    "input_ph = tf.placeholder(tf.float32, [None,None,None])\n",
    "\n",
    "primitives = photoaug.augmentations\n",
    "\n",
    "photoaug_outputs = [input_ph]\n",
    "for p in primitives:\n",
    "    out = getattr(photoaug, p)(input_ph)\n",
    "    photoaug_outputs.append(out)\n",
    "photoaug_outputs = tf.concat([x[None] for x in photoaug_outputs], axis=0)"
   ]
  },
  {
   "cell_type": "code",
   "execution_count": 5,
   "metadata": {},
   "outputs": [],
   "source": [
    "tfconfig = tf.ConfigProto()\n",
    "tfconfig.gpu_options.allow_growth = True \n",
    "sess = tf.Session(config=tfconfig)\n",
    "sess.run(tf.global_variables_initializer())"
   ]
  },
  {
   "cell_type": "code",
   "execution_count": 6,
   "metadata": {},
   "outputs": [
    {
     "name": "stderr",
     "output_type": "stream",
     "text": [
      "../jupyter_utils.py:18: FutureWarning: Conversion of the second argument of issubdtype from `float` to `np.floating` is deprecated. In future, it will be treated as `np.float64 == np.dtype(float).type`.\n",
      "  if isinstance(batch, np.ndarray) and np.issubdtype(batch.dtype, np.float):\n"
     ]
    },
    {
     "data": {
      "application/vnd.jupyter.widget-view+json": {
       "model_id": "a7f9203e2e114b99ae3a4428ceab05fe",
       "version_major": 2,
       "version_minor": 0
      },
      "text/plain": [
       "interactive(children=(IntSlider(value=3, description='idx', max=7), Output()), _dom_classes=('widget-interact'…"
      ]
     },
     "metadata": {},
     "output_type": "display_data"
    }
   ],
   "source": [
    "feed_dict = {\n",
    "    input_ph: sample_image.astype(np.float32)\n",
    "}\n",
    "results = sess.run(photoaug_outputs, feed_dict=feed_dict)\n",
    "display_image_batch(results)"
   ]
  },
  {
   "cell_type": "code",
   "execution_count": 24,
   "metadata": {},
   "outputs": [
    {
     "data": {
      "text/plain": [
       "['additive_gaussian_noise',\n",
       " 'additive_speckle_noise',\n",
       " 'random_brightness',\n",
       " 'random_contrast',\n",
       " 'random_color_transform',\n",
       " 'additive_shade',\n",
       " 'motion_blur']"
      ]
     },
     "execution_count": 24,
     "metadata": {},
     "output_type": "execute_result"
    }
   ],
   "source": [
    "primitives"
   ]
  },
  {
   "cell_type": "code",
   "execution_count": 7,
   "metadata": {},
   "outputs": [],
   "source": [
    "# # dump for README\n",
    "# for name, img in zip(['original']+primitives, results.astype(np.uint8)):\n",
    "#     imsave('../samples/doc/pa_{}.jpg'.format(name), img)"
   ]
  },
  {
   "cell_type": "markdown",
   "metadata": {},
   "source": [
    "## Deforming Augmentations"
   ]
  },
  {
   "cell_type": "code",
   "execution_count": 9,
   "metadata": {},
   "outputs": [],
   "source": [
    "sample_path = '../samples/happy_animal_grid.jpg'\n",
    "sample_image = imread(sample_path).astype(np.float32)\n",
    "num_examples = 8"
   ]
  },
  {
   "cell_type": "code",
   "execution_count": 17,
   "metadata": {},
   "outputs": [],
   "source": [
    "homo_config = {\n",
    "    'perspective': True,\n",
    "    'scaling': True,\n",
    "    'rotation': True,\n",
    "    'translation': True,\n",
    "    'patch_ratio': 0.8,\n",
    "}\n",
    "\n",
    "ela_size = 256\n",
    "\n",
    "tf.reset_default_graph()\n",
    "input_ph = tf.placeholder(tf.float32, [None,None,None])\n",
    "# Homographic augmentation\n",
    "homoaug_output = defaug.homographic_augmentation(input_ph, **homo_config)['image']\n",
    "# Elastic deformation\n",
    "elastic_output = defaug.elastic_deformation(input_ph, alpha=ela_size*2, sigma=ela_size*0.08, alpha_affine=ela_size*0.08)\n",
    "# Random distortion\n",
    "dist_output = defaug.random_distortion(input_ph[None], disable_border=True)[0]\n",
    "# Euclid transform\n",
    "euclid_output = defaug.euclid_augmentation(input_ph[None], max_rad=np.pi, max_scale=np.sqrt(2), max_shift=0.1, disable_border=True)[0]"
   ]
  },
  {
   "cell_type": "code",
   "execution_count": 18,
   "metadata": {},
   "outputs": [],
   "source": [
    "tfconfig = tf.ConfigProto()\n",
    "tfconfig.gpu_options.allow_growth = True \n",
    "sess = tf.Session(config=tfconfig)\n",
    "sess.run(tf.global_variables_initializer())"
   ]
  },
  {
   "cell_type": "code",
   "execution_count": 20,
   "metadata": {},
   "outputs": [],
   "source": [
    "stored_outputs = {\n",
    "    'homographic': [sample_image],\n",
    "    'elastic': [sample_image],\n",
    "    'distortion': [sample_image],\n",
    "    'euclid': [sample_image],\n",
    "}\n",
    "for i in range(num_examples):\n",
    "    feed_dict = {\n",
    "        input_ph: sample_image,\n",
    "    }\n",
    "    fetch_dict = {\n",
    "        'homographic': homoaug_output,\n",
    "        'elastic': elastic_output,\n",
    "        'distortion': dist_output,\n",
    "        'euclid': euclid_output,\n",
    "    }\n",
    "    outputs = sess.run(fetch_dict, feed_dict)\n",
    "    \n",
    "    for key, val in outputs.items():\n",
    "        stored_outputs[key].append(val)\n",
    "\n",
    "for key in stored_outputs.keys():\n",
    "    stored_outputs[key] = np.array(stored_outputs[key])"
   ]
  },
  {
   "cell_type": "code",
   "execution_count": 21,
   "metadata": {},
   "outputs": [
    {
     "name": "stderr",
     "output_type": "stream",
     "text": [
      "../jupyter_utils.py:18: FutureWarning: Conversion of the second argument of issubdtype from `float` to `np.floating` is deprecated. In future, it will be treated as `np.float64 == np.dtype(float).type`.\n",
      "  if isinstance(batch, np.ndarray) and np.issubdtype(batch.dtype, np.float):\n"
     ]
    },
    {
     "data": {
      "application/vnd.jupyter.widget-view+json": {
       "model_id": "5f8d35c7bbe64d63bea5f94648d8df27",
       "version_major": 2,
       "version_minor": 0
      },
      "text/plain": [
       "interactive(children=(IntSlider(value=4, description='idx', max=8), Output()), _dom_classes=('widget-interact'…"
      ]
     },
     "metadata": {},
     "output_type": "display_data"
    }
   ],
   "source": [
    "display_image_batch(stored_outputs['homographic'])"
   ]
  },
  {
   "cell_type": "code",
   "execution_count": 23,
   "metadata": {},
   "outputs": [],
   "source": [
    "# # dump for README\n",
    "# from jupyter_utils import save_as_gif\n",
    "# for name, imgs in stored_outputs.items():\n",
    "#     save_as_gif('../samples/doc/da_{}.gif'.format(name), imgs.astype(np.uint8), fps=2)"
   ]
  },
  {
   "cell_type": "code",
   "execution_count": null,
   "metadata": {},
   "outputs": [],
   "source": []
  }
 ],
 "metadata": {
  "kernelspec": {
   "display_name": "Python 3",
   "language": "python",
   "name": "python3"
  },
  "language_info": {
   "codemirror_mode": {
    "name": "ipython",
    "version": 3
   },
   "file_extension": ".py",
   "mimetype": "text/x-python",
   "name": "python",
   "nbconvert_exporter": "python",
   "pygments_lexer": "ipython3",
   "version": "3.6.5"
  }
 },
 "nbformat": 4,
 "nbformat_minor": 2
}
